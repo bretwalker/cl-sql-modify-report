{
 "cells": [
  {
   "cell_type": "markdown",
   "metadata": {},
   "source": [
    "# Modifying Data and Reporting with SQL\n",
    "### Code Louisville, June 13, 2019\n",
    "\n",
    "#### Dockless Vehicle (Scooter) Data\n",
    "In this class, we will examine the concepts covered in the [Modifying Data with SQL](https://teamtreehouse.com/library/modifying-data-with-sql) and [Reporting with SQL](https://teamtreehouse.com/library/reporting-with-sql) Treehouse courses ([week 6](https://docs.google.com/document/d/1s-Odpse4mUIOADbIaEbHGc0jFsw-5IYeP8gs-N7IfRw)) by working with the dockless vehicle data dataset published by the City of Louisville.\n",
    "\n",
    "The dockless vehicle data page is https://data.louisvilleky.gov/dataset/dockless-vehicles.  \n",
    "This page contains info about what data is in the CSV file we'll work with.\n",
    "\n",
    "The data file we will be working with is the CSV file named [`Dockless Vehicle Trips - Block Level`](https://data.louisvilleky.gov/sites/default/files/DocklessTripOpenData_3.csv)."
   ]
  },
  {
   "cell_type": "markdown",
   "metadata": {},
   "source": [
    "###### Step 1: Loading Data\n",
    "\n",
    "In your Treehouse course, you learned about the `INSERT` statement.\n",
    "This is a very useful statement for inserting rows one or many at a time when you want to write SQL by hand or deal with every row you want to insert.\n",
    "\n",
    "But in this Code Louisville course, you will likely be working with data in the form of a CSV that you want to convert to a SQL table. Fortunately a library you've already learned about, `pandas` has a helpful functions for reading from a CSV and saving a `DataFrame` to a database:"
   ]
  },
  {
   "cell_type": "code",
   "execution_count": 1,
   "metadata": {},
   "outputs": [],
   "source": [
    "import sqlite3\n",
    "import pandas as pd\n",
    "\n",
    "# Create a database file named scooter_data.db\n",
    "conn = sqlite3.connect('scooter_data.db')\n",
    "\n",
    "# Read the data into a pandas DataFrame\n",
    "scooter_data = pd.read_csv('DocklessTripOpenData_3.csv')\n",
    "\n",
    "# Save to a table named scooter_data\n",
    "# (Columns will be named after the column headers in the CSV file)\n",
    "# Read about DataFrame's to_sql method here: https://pandas.pydata.org/pandas-docs/version/0.23.4/generated/pandas.DataFrame.to_sql.html\n",
    "scooter_data.to_sql('scooter_data', conn, if_exists='replace')\n"
   ]
  },
  {
   "cell_type": "markdown",
   "metadata": {},
   "source": [
    "##### Step 2: Modifying Data\n",
    "\n",
    "The scooter data that we loaded into our database has most of the data we want. But what if we always wanted to use kilometers instead of miles when looking at the data?\n",
    "\n",
    "From the city's [data page](https://data.louisvilleky.gov/dataset/dockless-vehicles), we can see that there is a column in the data that contains the trip distance in miles: `TripDistance - distance of trip in miles based on company route data`.\n",
    "\n",
    "Since we want to work in kilometers instead of miles, let's modify the data in the database and change the values from miles to kilometers.\n",
    "\n",
    "First, let's look at what a few rows look like before making the change:  \n",
    "(*We will use ORDER BY and LIMIT so that we get the same results each time we run this query*)"
   ]
  },
  {
   "cell_type": "code",
   "execution_count": 2,
   "metadata": {},
   "outputs": [
    {
     "data": {
      "text/html": [
       "<div>\n",
       "<style scoped>\n",
       "    .dataframe tbody tr th:only-of-type {\n",
       "        vertical-align: middle;\n",
       "    }\n",
       "\n",
       "    .dataframe tbody tr th {\n",
       "        vertical-align: top;\n",
       "    }\n",
       "\n",
       "    .dataframe thead th {\n",
       "        text-align: right;\n",
       "    }\n",
       "</style>\n",
       "<table border=\"1\" class=\"dataframe\">\n",
       "  <thead>\n",
       "    <tr style=\"text-align: right;\">\n",
       "      <th></th>\n",
       "      <th>TripID</th>\n",
       "      <th>TripDistance</th>\n",
       "    </tr>\n",
       "  </thead>\n",
       "  <tbody>\n",
       "    <tr>\n",
       "      <th>0</th>\n",
       "      <td>ffff9a78-8f18-0ff1-cec5-c5a778a0</td>\n",
       "      <td>0.00</td>\n",
       "    </tr>\n",
       "    <tr>\n",
       "      <th>1</th>\n",
       "      <td>ffff30aa-b4c7-87d4-0c09-fbb7828f</td>\n",
       "      <td>0.08</td>\n",
       "    </tr>\n",
       "    <tr>\n",
       "      <th>2</th>\n",
       "      <td>fffdd4ed-b41a-78fa-7354-17213196</td>\n",
       "      <td>3.37</td>\n",
       "    </tr>\n",
       "    <tr>\n",
       "      <th>3</th>\n",
       "      <td>fffd9458-800a-c1ef-5de1-e8860f81</td>\n",
       "      <td>0.43</td>\n",
       "    </tr>\n",
       "    <tr>\n",
       "      <th>4</th>\n",
       "      <td>fffcde54-21d5-fbf8-6068-febc7ab4</td>\n",
       "      <td>1.32</td>\n",
       "    </tr>\n",
       "  </tbody>\n",
       "</table>\n",
       "</div>"
      ],
      "text/plain": [
       "                             TripID  TripDistance\n",
       "0  ffff9a78-8f18-0ff1-cec5-c5a778a0          0.00\n",
       "1  ffff30aa-b4c7-87d4-0c09-fbb7828f          0.08\n",
       "2  fffdd4ed-b41a-78fa-7354-17213196          3.37\n",
       "3  fffd9458-800a-c1ef-5de1-e8860f81          0.43\n",
       "4  fffcde54-21d5-fbf8-6068-febc7ab4          1.32"
      ]
     },
     "execution_count": 2,
     "metadata": {},
     "output_type": "execute_result"
    }
   ],
   "source": [
    "pd.read_sql_query(\"\"\"\n",
    "    SELECT TripID, TripDistance FROM scooter_data\n",
    "    ORDER BY TripID DESC\n",
    "    LIMIT 5;\n",
    "\"\"\", conn)"
   ]
  },
  {
   "cell_type": "markdown",
   "metadata": {},
   "source": [
    "Now, let's update the `TripDistance` value and then run the same query to see the new values:  \n",
    "*(We only want to update distance values that are greater than 0)*"
   ]
  },
  {
   "cell_type": "code",
   "execution_count": 3,
   "metadata": {},
   "outputs": [
    {
     "name": "stdout",
     "output_type": "stream",
     "text": [
      "Updated 131314 rows\n"
     ]
    },
    {
     "data": {
      "text/html": [
       "<div>\n",
       "<style scoped>\n",
       "    .dataframe tbody tr th:only-of-type {\n",
       "        vertical-align: middle;\n",
       "    }\n",
       "\n",
       "    .dataframe tbody tr th {\n",
       "        vertical-align: top;\n",
       "    }\n",
       "\n",
       "    .dataframe thead th {\n",
       "        text-align: right;\n",
       "    }\n",
       "</style>\n",
       "<table border=\"1\" class=\"dataframe\">\n",
       "  <thead>\n",
       "    <tr style=\"text-align: right;\">\n",
       "      <th></th>\n",
       "      <th>TripID</th>\n",
       "      <th>TripDistance</th>\n",
       "    </tr>\n",
       "  </thead>\n",
       "  <tbody>\n",
       "    <tr>\n",
       "      <th>0</th>\n",
       "      <td>ffff9a78-8f18-0ff1-cec5-c5a778a0</td>\n",
       "      <td>0.000000</td>\n",
       "    </tr>\n",
       "    <tr>\n",
       "      <th>1</th>\n",
       "      <td>ffff30aa-b4c7-87d4-0c09-fbb7828f</td>\n",
       "      <td>0.128747</td>\n",
       "    </tr>\n",
       "    <tr>\n",
       "      <th>2</th>\n",
       "      <td>fffdd4ed-b41a-78fa-7354-17213196</td>\n",
       "      <td>5.423476</td>\n",
       "    </tr>\n",
       "    <tr>\n",
       "      <th>3</th>\n",
       "      <td>fffd9458-800a-c1ef-5de1-e8860f81</td>\n",
       "      <td>0.692016</td>\n",
       "    </tr>\n",
       "    <tr>\n",
       "      <th>4</th>\n",
       "      <td>fffcde54-21d5-fbf8-6068-febc7ab4</td>\n",
       "      <td>2.124329</td>\n",
       "    </tr>\n",
       "  </tbody>\n",
       "</table>\n",
       "</div>"
      ],
      "text/plain": [
       "                             TripID  TripDistance\n",
       "0  ffff9a78-8f18-0ff1-cec5-c5a778a0      0.000000\n",
       "1  ffff30aa-b4c7-87d4-0c09-fbb7828f      0.128747\n",
       "2  fffdd4ed-b41a-78fa-7354-17213196      5.423476\n",
       "3  fffd9458-800a-c1ef-5de1-e8860f81      0.692016\n",
       "4  fffcde54-21d5-fbf8-6068-febc7ab4      2.124329"
      ]
     },
     "execution_count": 3,
     "metadata": {},
     "output_type": "execute_result"
    }
   ],
   "source": [
    "results = pd.io.sql.execute(\"\"\"\n",
    "    UPDATE scooter_data\n",
    "    SET TripDistance = TripDistance * 1.60934\n",
    "    WHERE TripDistance > 0;\n",
    "\"\"\", conn)\n",
    "conn.commit()\n",
    "\n",
    "print('Updated {} rows'.format(results.rowcount))\n",
    "\n",
    "pd.read_sql_query(\"\"\"\n",
    "    SELECT TripID, TripDistance FROM scooter_data\n",
    "    ORDER BY TripID DESC\n",
    "    LIMIT 5;\n",
    "\"\"\", conn)"
   ]
  },
  {
   "cell_type": "markdown",
   "metadata": {},
   "source": [
    "Comparing the output from the same query, we can see that the `TripDistance` values have increased by `1.60934`. Awesome!"
   ]
  },
  {
   "cell_type": "markdown",
   "metadata": {},
   "source": [
    "##### Step 3: Deleting Data\n",
    "\n",
    "From the city's [data page](https://data.louisvilleky.gov/dataset/dockless-vehicles), we can see that there is a `Data Outliers` section that talks about possible bad data.\n",
    "\n",
    "There are two things that stand out:\n",
    "```\n",
    "  * Set TripDistance to -1 where the value is less than 0\n",
    "  * Set TripDistance to 100 where the value is over 100 (maximum range is currently around 25 miles)\n",
    "```\n",
    "\n",
    "This means that any `TripDistance` values that are `-1` or `100` are probably bad data. We could try to remember to exclude these from all of our queries, but it's probably easier to delete these values from the data set. We can also remove rows that have a `TripDistance` of `0`. Lets's do that now!"
   ]
  },
  {
   "cell_type": "code",
   "execution_count": 4,
   "metadata": {},
   "outputs": [
    {
     "name": "stdout",
     "output_type": "stream",
     "text": [
      "Deleted 12212 rows\n"
     ]
    }
   ],
   "source": [
    "results = pd.io.sql.execute(\"\"\"\n",
    "    DELETE FROM scooter_data\n",
    "    WHERE \n",
    "        TripDistance = -1  * 1.60934 OR -- Multiply distance by  * 1.60934, since we converted to KM\n",
    "        TripDistance >= 100 * 1.60934 OR\n",
    "        TripDistance = 0;\n",
    "\"\"\", conn)\n",
    "conn.commit()\n",
    "\n",
    "print('Deleted {} rows'.format(results.rowcount))"
   ]
  },
  {
   "cell_type": "markdown",
   "metadata": {},
   "source": [
    "Ok, we deleted 12283 rows containing either bad data or trips with no distance!\n",
    "\n",
    "##### Step 4: Aggregating Data\n",
    "\n",
    "So what's an aggregation?  \n",
    "The dictionary definition is: `a cluster of things that have come or been brought together`.\n",
    "\n",
    "But how does this apply to rows in a database?  \n",
    "Through aggregate functions that perform an operation on a \"cluster of things\" (aka grouping).\n",
    "\n",
    "The aggregate functions provided by sqlite are:\n",
    "  * avg\n",
    "  * count\n",
    "  * group_concat\n",
    "  * max\n",
    "  * min\n",
    "  * sum\n",
    "  \n",
    "You'll most often use these functions with numerical values.\n",
    "\n",
    "Let's try a few!"
   ]
  },
  {
   "cell_type": "code",
   "execution_count": 5,
   "metadata": {},
   "outputs": [
    {
     "data": {
      "text/html": [
       "<div>\n",
       "<style scoped>\n",
       "    .dataframe tbody tr th:only-of-type {\n",
       "        vertical-align: middle;\n",
       "    }\n",
       "\n",
       "    .dataframe tbody tr th {\n",
       "        vertical-align: top;\n",
       "    }\n",
       "\n",
       "    .dataframe thead th {\n",
       "        text-align: right;\n",
       "    }\n",
       "</style>\n",
       "<table border=\"1\" class=\"dataframe\">\n",
       "  <thead>\n",
       "    <tr style=\"text-align: right;\">\n",
       "      <th></th>\n",
       "      <th>Shortest Trip Distance</th>\n",
       "      <th>Longest Trip Distance</th>\n",
       "      <th>Average Trip Distance</th>\n",
       "      <th>Total Trip Distance</th>\n",
       "    </tr>\n",
       "  </thead>\n",
       "  <tbody>\n",
       "    <tr>\n",
       "      <th>0</th>\n",
       "      <td>-1.0</td>\n",
       "      <td>100.004388</td>\n",
       "      <td>2.05941</td>\n",
       "      <td>270575.6296</td>\n",
       "    </tr>\n",
       "  </tbody>\n",
       "</table>\n",
       "</div>"
      ],
      "text/plain": [
       "   Shortest Trip Distance  Longest Trip Distance  Average Trip Distance  \\\n",
       "0                    -1.0             100.004388                2.05941   \n",
       "\n",
       "   Total Trip Distance  \n",
       "0          270575.6296  "
      ]
     },
     "execution_count": 5,
     "metadata": {},
     "output_type": "execute_result"
    }
   ],
   "source": [
    "pd.read_sql_query(\"\"\"\n",
    "    SELECT \n",
    "        min(TripDistance) as 'Shortest Trip Distance',\n",
    "        max(TripDistance) as 'Longest Trip Distance',\n",
    "        avg(TripDistance) as 'Average Trip Distance',\n",
    "        sum(TripDistance) as 'Total Trip Distance'\n",
    "    FROM scooter_data\n",
    "\"\"\", conn)"
   ]
  },
  {
   "cell_type": "markdown",
   "metadata": {},
   "source": [
    "Useful, but these values are across *all* rides in the table. What if we want to change the \"cluster\" from the one cluster comprised of the entire table into a cluster per day?\n",
    "\n",
    "We can do that with the `GROUP BY` clause:"
   ]
  },
  {
   "cell_type": "code",
   "execution_count": 6,
   "metadata": {},
   "outputs": [
    {
     "data": {
      "text/html": [
       "<div>\n",
       "<style scoped>\n",
       "    .dataframe tbody tr th:only-of-type {\n",
       "        vertical-align: middle;\n",
       "    }\n",
       "\n",
       "    .dataframe tbody tr th {\n",
       "        vertical-align: top;\n",
       "    }\n",
       "\n",
       "    .dataframe thead th {\n",
       "        text-align: right;\n",
       "    }\n",
       "</style>\n",
       "<table border=\"1\" class=\"dataframe\">\n",
       "  <thead>\n",
       "    <tr style=\"text-align: right;\">\n",
       "      <th></th>\n",
       "      <th>StartDate</th>\n",
       "      <th>Shortest Trip Distance</th>\n",
       "      <th>Longest Trip Distance</th>\n",
       "      <th>Average Trip Distance</th>\n",
       "      <th>Total Trip Distance</th>\n",
       "    </tr>\n",
       "  </thead>\n",
       "  <tbody>\n",
       "    <tr>\n",
       "      <th>0</th>\n",
       "      <td>2018-08-09</td>\n",
       "      <td>0.016093</td>\n",
       "      <td>19.730508</td>\n",
       "      <td>2.821453</td>\n",
       "      <td>826.685771</td>\n",
       "    </tr>\n",
       "    <tr>\n",
       "      <th>1</th>\n",
       "      <td>2018-08-10</td>\n",
       "      <td>0.016093</td>\n",
       "      <td>14.130005</td>\n",
       "      <td>2.592806</td>\n",
       "      <td>1179.726687</td>\n",
       "    </tr>\n",
       "    <tr>\n",
       "      <th>2</th>\n",
       "      <td>2018-08-11</td>\n",
       "      <td>0.048280</td>\n",
       "      <td>16.302614</td>\n",
       "      <td>3.897517</td>\n",
       "      <td>989.969408</td>\n",
       "    </tr>\n",
       "    <tr>\n",
       "      <th>3</th>\n",
       "      <td>2018-08-12</td>\n",
       "      <td>0.016093</td>\n",
       "      <td>23.673391</td>\n",
       "      <td>3.928000</td>\n",
       "      <td>1253.032124</td>\n",
       "    </tr>\n",
       "    <tr>\n",
       "      <th>4</th>\n",
       "      <td>2018-08-13</td>\n",
       "      <td>0.016093</td>\n",
       "      <td>20.631739</td>\n",
       "      <td>3.809288</td>\n",
       "      <td>632.341873</td>\n",
       "    </tr>\n",
       "  </tbody>\n",
       "</table>\n",
       "</div>"
      ],
      "text/plain": [
       "    StartDate  Shortest Trip Distance  Longest Trip Distance  \\\n",
       "0  2018-08-09                0.016093              19.730508   \n",
       "1  2018-08-10                0.016093              14.130005   \n",
       "2  2018-08-11                0.048280              16.302614   \n",
       "3  2018-08-12                0.016093              23.673391   \n",
       "4  2018-08-13                0.016093              20.631739   \n",
       "\n",
       "   Average Trip Distance  Total Trip Distance  \n",
       "0               2.821453           826.685771  \n",
       "1               2.592806          1179.726687  \n",
       "2               3.897517           989.969408  \n",
       "3               3.928000          1253.032124  \n",
       "4               3.809288           632.341873  "
      ]
     },
     "execution_count": 6,
     "metadata": {},
     "output_type": "execute_result"
    }
   ],
   "source": [
    "pd.read_sql_query(\"\"\"\n",
    "    SELECT \n",
    "        StartDate,\n",
    "        min(TripDistance) as 'Shortest Trip Distance',\n",
    "        max(TripDistance) as 'Longest Trip Distance',\n",
    "        avg(TripDistance) as 'Average Trip Distance',\n",
    "        sum(TripDistance) as 'Total Trip Distance'\n",
    "    FROM scooter_data\n",
    "    GROUP BY StartDate\n",
    "    LIMIT 5; -- Limit to make it easier to read\n",
    "\"\"\", conn)"
   ]
  },
  {
   "cell_type": "markdown",
   "metadata": {},
   "source": [
    "So now we have the shortest, longest, average, and total trip distances *per day*.  \n",
    "Pretty useful!\n",
    "\n",
    "*Note: if you use the `GROUP BY` clause, the values you return in your select statement either have to be aggregates or columns included in the group by clause*\n",
    "\n",
    "Now that we know how to use aggregates, let's try to answer a question.\n",
    "\n",
    "What if someone asked you: **what days of the week are most popular for scooter rides?**  \n",
    "Could we write a query to answer that? Yes, we can!"
   ]
  },
  {
   "cell_type": "code",
   "execution_count": 7,
   "metadata": {},
   "outputs": [
    {
     "data": {
      "text/html": [
       "<div>\n",
       "<style scoped>\n",
       "    .dataframe tbody tr th:only-of-type {\n",
       "        vertical-align: middle;\n",
       "    }\n",
       "\n",
       "    .dataframe tbody tr th {\n",
       "        vertical-align: top;\n",
       "    }\n",
       "\n",
       "    .dataframe thead th {\n",
       "        text-align: right;\n",
       "    }\n",
       "</style>\n",
       "<table border=\"1\" class=\"dataframe\">\n",
       "  <thead>\n",
       "    <tr style=\"text-align: right;\">\n",
       "      <th></th>\n",
       "      <th>DayOfWeek</th>\n",
       "      <th>Total Rides</th>\n",
       "    </tr>\n",
       "  </thead>\n",
       "  <tbody>\n",
       "    <tr>\n",
       "      <th>0</th>\n",
       "      <td>7</td>\n",
       "      <td>23521</td>\n",
       "    </tr>\n",
       "    <tr>\n",
       "      <th>1</th>\n",
       "      <td>6</td>\n",
       "      <td>20119</td>\n",
       "    </tr>\n",
       "    <tr>\n",
       "      <th>2</th>\n",
       "      <td>5</td>\n",
       "      <td>18333</td>\n",
       "    </tr>\n",
       "    <tr>\n",
       "      <th>3</th>\n",
       "      <td>3</td>\n",
       "      <td>18270</td>\n",
       "    </tr>\n",
       "    <tr>\n",
       "      <th>4</th>\n",
       "      <td>4</td>\n",
       "      <td>17659</td>\n",
       "    </tr>\n",
       "    <tr>\n",
       "      <th>5</th>\n",
       "      <td>1</td>\n",
       "      <td>17455</td>\n",
       "    </tr>\n",
       "    <tr>\n",
       "      <th>6</th>\n",
       "      <td>2</td>\n",
       "      <td>16028</td>\n",
       "    </tr>\n",
       "  </tbody>\n",
       "</table>\n",
       "</div>"
      ],
      "text/plain": [
       "   DayOfWeek  Total Rides\n",
       "0          7        23521\n",
       "1          6        20119\n",
       "2          5        18333\n",
       "3          3        18270\n",
       "4          4        17659\n",
       "5          1        17455\n",
       "6          2        16028"
      ]
     },
     "execution_count": 7,
     "metadata": {},
     "output_type": "execute_result"
    }
   ],
   "source": [
    "pd.read_sql_query(\"\"\"\n",
    "    SELECT \n",
    "        DayOfWeek,\n",
    "        count(*) as 'Total Rides'\n",
    "    FROM scooter_data\n",
    "    GROUP BY DayOfWeek\n",
    "    ORDER BY count(*) DESC\n",
    "\"\"\", conn)"
   ]
  },
  {
   "cell_type": "markdown",
   "metadata": {},
   "source": [
    "Based on this decription from the city's [data page](https://data.louisvilleky.gov/dataset/dockless-vehicles):\n",
    "`DayOfWeek - 1-7 based on date, 1 = Sunday through 7 = Saturday, useful for analysis`,\n",
    "we can say that Saturday is the most popular day for scooter rides, followed by Friday. The least popular day for scooter rides is Monday.\n",
    "\n",
    "##### Conclusion\n",
    "Modifying data and reporting with SQL is a powerful way to organize and explore your data.  \n",
    "Understanding how to manipulate and query data in a SQL database is important in a variety of programming tasks. You can answer a lot of questions with just SQL.\n",
    "\n",
    "In future Treehouse courses, you'll learn how to use additional Python libraries to perform some aggregations outside of SQL and generate visualizations. "
   ]
  }
 ],
 "metadata": {
  "kernelspec": {
   "display_name": "Python 3",
   "language": "python",
   "name": "python3"
  },
  "language_info": {
   "codemirror_mode": {
    "name": "ipython",
    "version": 3
   },
   "file_extension": ".py",
   "mimetype": "text/x-python",
   "name": "python",
   "nbconvert_exporter": "python",
   "pygments_lexer": "ipython3",
   "version": "3.7.3"
  }
 },
 "nbformat": 4,
 "nbformat_minor": 2
}
